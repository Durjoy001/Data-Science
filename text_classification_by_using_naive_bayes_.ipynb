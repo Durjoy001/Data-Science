{
  "nbformat": 4,
  "nbformat_minor": 0,
  "metadata": {
    "colab": {
      "name": "text classification by using naive bayes .ipynb",
      "provenance": [],
      "include_colab_link": true
    },
    "kernelspec": {
      "name": "python3",
      "display_name": "Python 3"
    }
  },
  "cells": [
    {
      "cell_type": "markdown",
      "metadata": {
        "id": "view-in-github",
        "colab_type": "text"
      },
      "source": [
        "<a href=\"https://colab.research.google.com/github/Durjoy001/Data-Science/blob/main/text_classification_by_using_naive_bayes_.ipynb\" target=\"_parent\"><img src=\"https://colab.research.google.com/assets/colab-badge.svg\" alt=\"Open In Colab\"/></a>"
      ]
    },
    {
      "cell_type": "code",
      "metadata": {
        "id": "wjjEvlexoFFG"
      },
      "source": [
        "import glob\r\n",
        "import pandas as pd\r\n",
        "import numpy as np\r\n",
        "import os"
      ],
      "execution_count": 2,
      "outputs": []
    },
    {
      "cell_type": "code",
      "metadata": {
        "id": "vN0yBurGoz_-"
      },
      "source": [
        "from sklearn.naive_bayes import MultinomialNB\r\n",
        "from sklearn.feature_extraction.text import CountVectorizer\r\n",
        "from sklearn.model_selection import train_test_split\r\n",
        "from sklearn.metrics import accuracy_score\r\n",
        "import time\r\n",
        "import re \r\n",
        "\r\n",
        "from sklearn.pipeline import Pipeline\r\n",
        "from sklearn.feature_extraction.text import TfidfTransformer\r\n",
        "from sklearn.metrics import confusion_matrix\r\n",
        "import joblib"
      ],
      "execution_count": 3,
      "outputs": []
    },
    {
      "cell_type": "code",
      "metadata": {
        "colab": {
          "base_uri": "https://localhost:8080/"
        },
        "id": "sWx0gq07o0FP",
        "outputId": "311e8f12-8700-44e2-dffe-47cebe81186d"
      },
      "source": [
        "from google.colab import drive\r\n",
        "drive.mount('/content/drive')"
      ],
      "execution_count": 4,
      "outputs": [
        {
          "output_type": "stream",
          "text": [
            "Mounted at /content/drive\n"
          ],
          "name": "stdout"
        }
      ]
    },
    {
      "cell_type": "code",
      "metadata": {
        "id": "RekWOrfbo0I1"
      },
      "source": [
        "path = \"/content/drive/MyDrive/Colab Notebooks/Assignment 2/songData/*.xlsx\"\r\n",
        "all_file = glob.glob(path)"
      ],
      "execution_count": 5,
      "outputs": []
    },
    {
      "cell_type": "code",
      "metadata": {
        "colab": {
          "base_uri": "https://localhost:8080/"
        },
        "id": "mzupfQyto0J1",
        "outputId": "766f4b59-1910-4128-fb28-25f074e8bb53"
      },
      "source": [
        "all_file\r\n"
      ],
      "execution_count": 6,
      "outputs": [
        {
          "output_type": "execute_result",
          "data": {
            "text/plain": [
              "['/content/drive/MyDrive/Colab Notebooks/Assignment 2/songData/songType10.xlsx',\n",
              " '/content/drive/MyDrive/Colab Notebooks/Assignment 2/songData/songType1.xlsx',\n",
              " '/content/drive/MyDrive/Colab Notebooks/Assignment 2/songData/songType11.xlsx',\n",
              " '/content/drive/MyDrive/Colab Notebooks/Assignment 2/songData/songType9.xlsx',\n",
              " '/content/drive/MyDrive/Colab Notebooks/Assignment 2/songData/songType3.xlsx',\n",
              " '/content/drive/MyDrive/Colab Notebooks/Assignment 2/songData/songType14.xlsx',\n",
              " '/content/drive/MyDrive/Colab Notebooks/Assignment 2/songData/songType17.xlsx',\n",
              " '/content/drive/MyDrive/Colab Notebooks/Assignment 2/songData/songType16.xlsx',\n",
              " '/content/drive/MyDrive/Colab Notebooks/Assignment 2/songData/songType2.xlsx',\n",
              " '/content/drive/MyDrive/Colab Notebooks/Assignment 2/songData/songType5.xlsx',\n",
              " '/content/drive/MyDrive/Colab Notebooks/Assignment 2/songData/songType4.xlsx',\n",
              " '/content/drive/MyDrive/Colab Notebooks/Assignment 2/songData/songType12.xlsx',\n",
              " '/content/drive/MyDrive/Colab Notebooks/Assignment 2/songData/songType7.xlsx',\n",
              " '/content/drive/MyDrive/Colab Notebooks/Assignment 2/songData/songType20.xlsx',\n",
              " '/content/drive/MyDrive/Colab Notebooks/Assignment 2/songData/songType8.xlsx',\n",
              " '/content/drive/MyDrive/Colab Notebooks/Assignment 2/songData/songType13.xlsx',\n",
              " '/content/drive/MyDrive/Colab Notebooks/Assignment 2/songData/songType19.xlsx',\n",
              " '/content/drive/MyDrive/Colab Notebooks/Assignment 2/songData/songType6.xlsx',\n",
              " '/content/drive/MyDrive/Colab Notebooks/Assignment 2/songData/songType0.xlsx',\n",
              " '/content/drive/MyDrive/Colab Notebooks/Assignment 2/songData/songType18.xlsx',\n",
              " '/content/drive/MyDrive/Colab Notebooks/Assignment 2/songData/songType15.xlsx']"
            ]
          },
          "metadata": {
            "tags": []
          },
          "execution_count": 6
        }
      ]
    },
    {
      "cell_type": "code",
      "metadata": {
        "id": "9OHoiBjvpSUs"
      },
      "source": [
        "names = []\r\n",
        "count = []\r\n",
        "clusters = []\r\n",
        "data = []\r\n",
        "\r\n",
        "for each in all_file:\r\n",
        "    temp = pd.read_excel(each)\r\n",
        "    \r\n",
        "    \r\n",
        "    count.append(len(temp))\r\n",
        "    names.append(each.split('/')[1][:-5])\r\n",
        "    clusters.append(temp['songType'])\r\n",
        "    \r\n",
        "    \r\n",
        "    data.append(temp)\r\n",
        "    \r\n",
        "cluster_ids =clusters"
      ],
      "execution_count": 7,
      "outputs": []
    },
    {
      "cell_type": "code",
      "metadata": {
        "colab": {
          "base_uri": "https://localhost:8080/",
          "height": 424
        },
        "id": "9y_HvzLCpSi2",
        "outputId": "485d0073-8018-498e-a662-b2e1ce5989c7"
      },
      "source": [
        "data = pd.concat(data)\r\n",
        "data = data.sample(frac = 1)\r\n",
        "\r\n",
        "data"
      ],
      "execution_count": 8,
      "outputs": [
        {
          "output_type": "execute_result",
          "data": {
            "text/html": [
              "<div>\n",
              "<style scoped>\n",
              "    .dataframe tbody tr th:only-of-type {\n",
              "        vertical-align: middle;\n",
              "    }\n",
              "\n",
              "    .dataframe tbody tr th {\n",
              "        vertical-align: top;\n",
              "    }\n",
              "\n",
              "    .dataframe thead th {\n",
              "        text-align: right;\n",
              "    }\n",
              "</style>\n",
              "<table border=\"1\" class=\"dataframe\">\n",
              "  <thead>\n",
              "    <tr style=\"text-align: right;\">\n",
              "      <th></th>\n",
              "      <th>Unnamed: 0</th>\n",
              "      <th>lyrics</th>\n",
              "      <th>songType</th>\n",
              "    </tr>\n",
              "  </thead>\n",
              "  <tbody>\n",
              "    <tr>\n",
              "      <th>68</th>\n",
              "      <td>386</td>\n",
              "      <td>বড় কষ্ট করে গিয়েছিলাম আমি ভার্সিটি ক্লাস করতে ...</td>\n",
              "      <td>1</td>\n",
              "    </tr>\n",
              "    <tr>\n",
              "      <th>224</th>\n",
              "      <td>905</td>\n",
              "      <td>ছোট্ট একটা ভালোবাসা এইতো শুধু চায়গো সবাই।। একট...</td>\n",
              "      <td>3</td>\n",
              "    </tr>\n",
              "    <tr>\n",
              "      <th>243</th>\n",
              "      <td>831</td>\n",
              "      <td>দরদী গো— কী চেয়েছি আর কী যে পেলাম সাধের প্রদীপ...</td>\n",
              "      <td>1</td>\n",
              "    </tr>\n",
              "    <tr>\n",
              "      <th>599</th>\n",
              "      <td>3759</td>\n",
              "      <td>বৃষ্টি দেখে অনেক কেঁদেছি করেছি কতই আর্তনাদ দু:...</td>\n",
              "      <td>13</td>\n",
              "    </tr>\n",
              "    <tr>\n",
              "      <th>3</th>\n",
              "      <td>317</td>\n",
              "      <td>আজ তোমায় স্বপ্ন দেখাবো না কল্পনায় তোমায় ভাসাবো...</td>\n",
              "      <td>9</td>\n",
              "    </tr>\n",
              "    <tr>\n",
              "      <th>...</th>\n",
              "      <td>...</td>\n",
              "      <td>...</td>\n",
              "      <td>...</td>\n",
              "    </tr>\n",
              "    <tr>\n",
              "      <th>482</th>\n",
              "      <td>2857</td>\n",
              "      <td>সত্য কি তেতো সেকি জীবনের মত বেচেও মোরা নাকি বি...</td>\n",
              "      <td>3</td>\n",
              "    </tr>\n",
              "    <tr>\n",
              "      <th>231</th>\n",
              "      <td>1643</td>\n",
              "      <td>ওরে,   কে রে এমন জাগায় তোকে?           ঘুম কেন...</td>\n",
              "      <td>17</td>\n",
              "    </tr>\n",
              "    <tr>\n",
              "      <th>353</th>\n",
              "      <td>2294</td>\n",
              "      <td>(গহন কালা নিশির আন্ধার আরে গহন কালা নিশির আন্ধ...</td>\n",
              "      <td>13</td>\n",
              "    </tr>\n",
              "    <tr>\n",
              "      <th>100</th>\n",
              "      <td>1123</td>\n",
              "      <td>কাবার জিয়ারতে তুমি কে যাও মদিনায়? আমার সালাম প...</td>\n",
              "      <td>7</td>\n",
              "    </tr>\n",
              "    <tr>\n",
              "      <th>704</th>\n",
              "      <td>2929</td>\n",
              "      <td>আমি তোমার মনের ভেতর একবার ঘুরে আসতে চাই আমায় ক...</td>\n",
              "      <td>1</td>\n",
              "    </tr>\n",
              "  </tbody>\n",
              "</table>\n",
              "<p>4108 rows × 3 columns</p>\n",
              "</div>"
            ],
            "text/plain": [
              "     Unnamed: 0                                             lyrics  songType\n",
              "68          386  বড় কষ্ট করে গিয়েছিলাম আমি ভার্সিটি ক্লাস করতে ...         1\n",
              "224         905  ছোট্ট একটা ভালোবাসা এইতো শুধু চায়গো সবাই।। একট...         3\n",
              "243         831  দরদী গো— কী চেয়েছি আর কী যে পেলাম সাধের প্রদীপ...         1\n",
              "599        3759  বৃষ্টি দেখে অনেক কেঁদেছি করেছি কতই আর্তনাদ দু:...        13\n",
              "3           317  আজ তোমায় স্বপ্ন দেখাবো না কল্পনায় তোমায় ভাসাবো...         9\n",
              "..          ...                                                ...       ...\n",
              "482        2857  সত্য কি তেতো সেকি জীবনের মত বেচেও মোরা নাকি বি...         3\n",
              "231        1643  ওরে,   কে রে এমন জাগায় তোকে?           ঘুম কেন...        17\n",
              "353        2294  (গহন কালা নিশির আন্ধার আরে গহন কালা নিশির আন্ধ...        13\n",
              "100        1123  কাবার জিয়ারতে তুমি কে যাও মদিনায়? আমার সালাম প...         7\n",
              "704        2929  আমি তোমার মনের ভেতর একবার ঘুরে আসতে চাই আমায় ক...         1\n",
              "\n",
              "[4108 rows x 3 columns]"
            ]
          },
          "metadata": {
            "tags": []
          },
          "execution_count": 8
        }
      ]
    },
    {
      "cell_type": "code",
      "metadata": {
        "id": "RzKYrtL3pSw6"
      },
      "source": [
        "stop_words = [ 'হাই', 'ফ্রিকুয়েন্সি', 'কিন্তু', 'অপ্রয়োজনীয়', 'শব্দ' ]"
      ],
      "execution_count": 9,
      "outputs": []
    },
    {
      "cell_type": "code",
      "metadata": {
        "id": "2tr1YMJWpgR1"
      },
      "source": [
        "data['lyrics'] = data['lyrics'].apply(lambda x: ' '.join([word for word in x.split() if word not in (stop_words)]))"
      ],
      "execution_count": 10,
      "outputs": []
    },
    {
      "cell_type": "code",
      "metadata": {
        "id": "FSQoP0xJpgab"
      },
      "source": [
        "X_train, X_test, y_train, y_test =  train_test_split(data['lyrics'], data['songType'], test_size=0.33, random_state=42 )"
      ],
      "execution_count": 11,
      "outputs": []
    },
    {
      "cell_type": "code",
      "metadata": {
        "colab": {
          "base_uri": "https://localhost:8080/"
        },
        "id": "GTPsYLInpgie",
        "outputId": "0deeb947-6e52-480b-ac48-1fa4cb393f3c"
      },
      "source": [
        "from sklearn.model_selection import ShuffleSplit\r\n",
        "from sklearn.model_selection import cross_val_score\r\n",
        "from sklearn import metrics\r\n",
        "\r\n",
        "total_data_count = len(data)\r\n",
        "per_class_counts = []\r\n",
        "unique_classes = np.unique(data['songType'].values)\r\n",
        "class_count_mean = np.mean(count)\r\n",
        "\r\n",
        "###########################3\r\n",
        "############### classifier setup ################\r\n",
        "\r\n",
        "from sklearn.naive_bayes import MultinomialNB\r\n",
        "text_clf_svm = Pipeline([\r\n",
        "    \r\n",
        "    ('vect', CountVectorizer(\r\n",
        "                            analyzer=\"word\", \r\n",
        "                            lowercase=False,\r\n",
        "                            token_pattern=\"[\\S]*\",\r\n",
        "                            tokenizer=None,\r\n",
        "                            ngram_range=(1, 3),\r\n",
        "                            preprocessor=None)),                 \r\n",
        "    ('tfidf', TfidfTransformer()),\r\n",
        "    ('clf-svm',MultinomialNB()),\r\n",
        "                                                                        \r\n",
        "])\r\n",
        "classifier = text_clf_svm.fit(list(X_train), list(y_train))\r\n",
        "\r\n",
        "\r\n",
        "cv = ShuffleSplit(n_splits=5, test_size=0.3, random_state=0)\r\n",
        "score = cross_val_score(text_clf_svm, list(X_train), list(y_train), cv=cv)\r\n",
        "\r\n",
        "print(\"Cross Accuracy: %0.2f (+/- %0.2f)\" % (score.mean(), score.std() * 2))\r\n",
        "\r\n",
        "\r\n",
        "predicted = classifier.predict(X_test)"
      ],
      "execution_count": 17,
      "outputs": [
        {
          "output_type": "stream",
          "text": [
            "Cross Accuracy: 0.33 (+/- 0.04)\n"
          ],
          "name": "stdout"
        }
      ]
    },
    {
      "cell_type": "code",
      "metadata": {
        "id": "Z5aNco-Mpgos",
        "colab": {
          "base_uri": "https://localhost:8080/"
        },
        "outputId": "7477bfe3-8b38-49ec-9893-d0d5f15c7cb5"
      },
      "source": [
        "print(\"Cross Accuracy: %0.2f (+/- %0.2f)\" % (score.mean(), score.std() * 2))\r\n",
        "print(metrics.classification_report(y_test, predicted))"
      ],
      "execution_count": 13,
      "outputs": [
        {
          "output_type": "stream",
          "text": [
            "Cross Accuracy: 0.33 (+/- 0.04)\n",
            "              precision    recall  f1-score   support\n",
            "\n",
            "           0       0.00      0.00      0.00         3\n",
            "           1       0.28      1.00      0.43       335\n",
            "           2       0.00      0.00      0.00         4\n",
            "           3       0.80      0.01      0.03       268\n",
            "           4       0.00      0.00      0.00         1\n",
            "           5       0.00      0.00      0.00        16\n",
            "           6       0.00      0.00      0.00        33\n",
            "           7       0.00      0.00      0.00        67\n",
            "           8       0.00      0.00      0.00         5\n",
            "           9       0.00      0.00      0.00        19\n",
            "          10       0.00      0.00      0.00        17\n",
            "          11       0.00      0.00      0.00        18\n",
            "          12       0.00      0.00      0.00        39\n",
            "          13       0.00      0.00      0.00       230\n",
            "          14       0.00      0.00      0.00        21\n",
            "          15       0.00      0.00      0.00         1\n",
            "          16       0.00      0.00      0.00         2\n",
            "          17       0.93      0.50      0.65       249\n",
            "          18       0.00      0.00      0.00         3\n",
            "          19       0.00      0.00      0.00        21\n",
            "          20       0.00      0.00      0.00         4\n",
            "\n",
            "    accuracy                           0.34      1356\n",
            "   macro avg       0.10      0.07      0.05      1356\n",
            "weighted avg       0.40      0.34      0.23      1356\n",
            "\n"
          ],
          "name": "stdout"
        },
        {
          "output_type": "stream",
          "text": [
            "/usr/local/lib/python3.6/dist-packages/sklearn/metrics/_classification.py:1272: UndefinedMetricWarning: Precision and F-score are ill-defined and being set to 0.0 in labels with no predicted samples. Use `zero_division` parameter to control this behavior.\n",
            "  _warn_prf(average, modifier, msg_start, len(result))\n"
          ],
          "name": "stderr"
        }
      ]
    },
    {
      "cell_type": "code",
      "metadata": {
        "id": "Ft6stPqhg4e2"
      },
      "source": [
        "import pandas as pd\r\n",
        "confusion_matrix = list(metrics.confusion_matrix(y_test, predicted))"
      ],
      "execution_count": 14,
      "outputs": []
    },
    {
      "cell_type": "code",
      "metadata": {
        "colab": {
          "base_uri": "https://localhost:8080/",
          "height": 610
        },
        "id": "XEh7QBeJg4h3",
        "outputId": "95e09693-9140-4bfc-b3f1-8a580acee515"
      },
      "source": [
        "import seaborn as sn\r\n",
        "import pandas as pd\r\n",
        "import matplotlib.pyplot as plt\r\n",
        "array = confusion_matrix\r\n",
        "df_cm = pd.DataFrame(array, index = [i for i in names],\r\n",
        "              columns = [i for i in names])\r\n",
        "df_norm_col=(df_cm-df_cm.mean())/df_cm.std()\r\n",
        "#df_norm_col=df_cm-df_cm.mean()\r\n",
        "plt.figure(figsize = (15,10))\r\n",
        "sn.heatmap(df_norm_col, annot=True,cmap='viridis')"
      ],
      "execution_count": 16,
      "outputs": [
        {
          "output_type": "execute_result",
          "data": {
            "text/plain": [
              "<matplotlib.axes._subplots.AxesSubplot at 0x7f669218a358>"
            ]
          },
          "metadata": {
            "tags": []
          },
          "execution_count": 16
        },
        {
          "output_type": "display_data",
          "data": {
            "image/png": "[encoded data removed]",
            "text/plain": [
              "<Figure size 1080x720 with 2 Axes>"
            ]
          },
          "metadata": {
            "tags": [],
            "needs_background": "light"
          }
        }
      ]
    }
  ]
}